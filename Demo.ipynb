{
 "cells": [
  {
   "attachments": {},
   "cell_type": "markdown",
   "metadata": {},
   "source": [
    "# Preliminary operations"
   ]
  },
  {
   "cell_type": "code",
   "execution_count": 1,
   "metadata": {},
   "outputs": [
    {
     "name": "stdout",
     "output_type": "stream",
     "text": [
      " Il volume nell'unit� C � Windows\n",
      " Numero di serie del volume: BEF8-AC01\n",
      "\n",
      " Directory di c:\\Users\\Simone\\Documents\\Desktop\\public_and_social_services\n",
      "\n",
      "15/06/2023  15:56    <DIR>          .\n",
      "15/06/2023  15:56    <DIR>          ..\n",
      "06/06/2023  16:46             6.148 .DS_Store\n",
      "13/06/2023  17:13    <DIR>          data\n",
      "15/06/2023  16:20            19.137 Demo.ipynb\n",
      "13/06/2023  17:13           174.889 EDA_domains.ipynb\n",
      "15/06/2023  15:55         2.976.082 Extra_tools.ipynb\n",
      "08/06/2023  17:08    <DIR>          flagged\n",
      "15/06/2023  16:22            45.972 Langchain.ipynb\n",
      "08/05/2023  15:03    <DIR>          ricette\n",
      "               5 File      3.222.228 byte\n",
      "               5 Directory  28.254.208.000 byte disponibili\n"
     ]
    }
   ],
   "source": [
    "ls"
   ]
  },
  {
   "cell_type": "code",
   "execution_count": 2,
   "metadata": {},
   "outputs": [
    {
     "name": "stdout",
     "output_type": "stream",
     "text": [
      "c:\\Users\\Simone\\Documents\\Desktop\\public_and_social_services\n"
     ]
    }
   ],
   "source": [
    "cd C:\\Users\\Simone\\Documents\\Desktop\\public_and_social_services"
   ]
  },
  {
   "attachments": {},
   "cell_type": "markdown",
   "metadata": {},
   "source": [
    "# Notebook of Extra tool"
   ]
  },
  {
   "cell_type": "code",
   "execution_count": 3,
   "metadata": {},
   "outputs": [
    {
     "name": "stdout",
     "output_type": "stream",
     "text": [
      "Requirement already satisfied: pypdf in c:\\users\\simone\\appdata\\local\\programs\\python\\python310\\lib\\site-packages (3.8.1)\n",
      "Requirement already satisfied: langchain in c:\\users\\simone\\appdata\\local\\programs\\python\\python310\\lib\\site-packages (0.0.158)\n",
      "Requirement already satisfied: tika in c:\\users\\simone\\appdata\\local\\programs\\python\\python310\\lib\\site-packages (2.6.0)\n",
      "Requirement already satisfied: typing in c:\\users\\simone\\appdata\\local\\programs\\python\\python310\\lib\\site-packages (3.7.4.3)\n",
      "Requirement already satisfied: fuzzywuzzy in c:\\users\\simone\\appdata\\local\\programs\\python\\python310\\lib\\site-packages (0.18.0)\n",
      "Requirement already satisfied: pymupdf in c:\\users\\simone\\appdata\\local\\programs\\python\\python310\\lib\\site-packages (1.22.2)\n",
      "Requirement already satisfied: easyocr in c:\\users\\simone\\appdata\\local\\programs\\python\\python310\\lib\\site-packages (1.6.2)\n",
      "Requirement already satisfied: aiohttp<4.0.0,>=3.8.3 in c:\\users\\simone\\appdata\\local\\programs\\python\\python310\\lib\\site-packages (from langchain) (3.8.4)\n",
      "Requirement already satisfied: pydantic<2,>=1 in c:\\users\\simone\\appdata\\local\\programs\\python\\python310\\lib\\site-packages (from langchain) (1.10.7)\n",
      "Requirement already satisfied: requests<3,>=2 in c:\\users\\simone\\appdata\\local\\programs\\python\\python310\\lib\\site-packages (from langchain) (2.30.0)\n",
      "Requirement already satisfied: tqdm>=4.48.0 in c:\\users\\simone\\appdata\\local\\programs\\python\\python310\\lib\\site-packages (from langchain) (4.64.0)\n",
      "Requirement already satisfied: SQLAlchemy<3,>=1.3 in c:\\users\\simone\\appdata\\local\\programs\\python\\python310\\lib\\site-packages (from langchain) (2.0.12)\n",
      "Requirement already satisfied: numexpr<3.0.0,>=2.8.4 in c:\\users\\simone\\appdata\\local\\programs\\python\\python310\\lib\\site-packages (from langchain) (2.8.4)\n",
      "Requirement already satisfied: tenacity<9.0.0,>=8.1.0 in c:\\users\\simone\\appdata\\local\\programs\\python\\python310\\lib\\site-packages (from langchain) (8.2.2)\n",
      "Requirement already satisfied: numpy<2,>=1 in c:\\users\\simone\\appdata\\local\\programs\\python\\python310\\lib\\site-packages (from langchain) (1.24.1)\n",
      "Requirement already satisfied: dataclasses-json<0.6.0,>=0.5.7 in c:\\users\\simone\\appdata\\local\\programs\\python\\python310\\lib\\site-packages (from langchain) (0.5.7)\n",
      "Requirement already satisfied: async-timeout<5.0.0,>=4.0.0 in c:\\users\\simone\\appdata\\local\\programs\\python\\python310\\lib\\site-packages (from langchain) (4.0.2)\n",
      "Requirement already satisfied: openapi-schema-pydantic<2.0,>=1.2 in c:\\users\\simone\\appdata\\local\\programs\\python\\python310\\lib\\site-packages (from langchain) (1.2.4)\n",
      "Requirement already satisfied: PyYAML>=5.4.1 in c:\\users\\simone\\appdata\\local\\programs\\python\\python310\\lib\\site-packages (from langchain) (6.0)\n",
      "Requirement already satisfied: setuptools in c:\\users\\simone\\appdata\\local\\programs\\python\\python310\\lib\\site-packages (from tika) (57.4.0)\n",
      "Requirement already satisfied: opencv-python-headless<=4.5.4.60 in c:\\users\\simone\\appdata\\local\\programs\\python\\python310\\lib\\site-packages (from easyocr) (4.5.4.60)\n",
      "Requirement already satisfied: Shapely in c:\\users\\simone\\appdata\\local\\programs\\python\\python310\\lib\\site-packages (from easyocr) (2.0.1)\n",
      "Requirement already satisfied: ninja in c:\\users\\simone\\appdata\\local\\programs\\python\\python310\\lib\\site-packages (from easyocr) (1.11.1)\n",
      "Requirement already satisfied: torchvision>=0.5 in c:\\users\\simone\\appdata\\local\\programs\\python\\python310\\lib\\site-packages (from easyocr) (0.15.1)\n",
      "Requirement already satisfied: scipy in c:\\users\\simone\\appdata\\local\\programs\\python\\python310\\lib\\site-packages (from easyocr) (1.8.1)\n",
      "Requirement already satisfied: scikit-image in c:\\users\\simone\\appdata\\local\\programs\\python\\python310\\lib\\site-packages (from easyocr) (0.20.0)\n",
      "Requirement already satisfied: pyclipper in c:\\users\\simone\\appdata\\local\\programs\\python\\python310\\lib\\site-packages (from easyocr) (1.3.0.post4)\n",
      "Requirement already satisfied: Pillow in c:\\users\\simone\\appdata\\local\\programs\\python\\python310\\lib\\site-packages (from easyocr) (9.2.0)\n",
      "Requirement already satisfied: torch in c:\\users\\simone\\appdata\\local\\programs\\python\\python310\\lib\\site-packages (from easyocr) (2.0.0)\n",
      "Requirement already satisfied: python-bidi in c:\\users\\simone\\appdata\\local\\programs\\python\\python310\\lib\\site-packages (from easyocr) (0.4.2)\n",
      "Requirement already satisfied: multidict<7.0,>=4.5 in c:\\users\\simone\\appdata\\local\\programs\\python\\python310\\lib\\site-packages (from aiohttp<4.0.0,>=3.8.3->langchain) (6.0.4)\n",
      "Requirement already satisfied: frozenlist>=1.1.1 in c:\\users\\simone\\appdata\\local\\programs\\python\\python310\\lib\\site-packages (from aiohttp<4.0.0,>=3.8.3->langchain) (1.3.3)\n",
      "Requirement already satisfied: attrs>=17.3.0 in c:\\users\\simone\\appdata\\local\\programs\\python\\python310\\lib\\site-packages (from aiohttp<4.0.0,>=3.8.3->langchain) (23.1.0)\n",
      "Requirement already satisfied: yarl<2.0,>=1.0 in c:\\users\\simone\\appdata\\local\\programs\\python\\python310\\lib\\site-packages (from aiohttp<4.0.0,>=3.8.3->langchain) (1.9.2)\n",
      "Requirement already satisfied: aiosignal>=1.1.2 in c:\\users\\simone\\appdata\\local\\programs\\python\\python310\\lib\\site-packages (from aiohttp<4.0.0,>=3.8.3->langchain) (1.3.1)\n",
      "Requirement already satisfied: charset-normalizer<4.0,>=2.0 in c:\\users\\simone\\appdata\\local\\programs\\python\\python310\\lib\\site-packages (from aiohttp<4.0.0,>=3.8.3->langchain) (3.1.0)\n",
      "Requirement already satisfied: typing-inspect>=0.4.0 in c:\\users\\simone\\appdata\\local\\programs\\python\\python310\\lib\\site-packages (from dataclasses-json<0.6.0,>=0.5.7->langchain) (0.8.0)\n",
      "Requirement already satisfied: marshmallow-enum<2.0.0,>=1.5.1 in c:\\users\\simone\\appdata\\local\\programs\\python\\python310\\lib\\site-packages (from dataclasses-json<0.6.0,>=0.5.7->langchain) (1.5.1)\n",
      "Requirement already satisfied: marshmallow<4.0.0,>=3.3.0 in c:\\users\\simone\\appdata\\local\\programs\\python\\python310\\lib\\site-packages (from dataclasses-json<0.6.0,>=0.5.7->langchain) (3.19.0)\n",
      "Requirement already satisfied: packaging>=17.0 in c:\\users\\simone\\appdata\\local\\programs\\python\\python310\\lib\\site-packages (from marshmallow<4.0.0,>=3.3.0->dataclasses-json<0.6.0,>=0.5.7->langchain) (21.3)\n",
      "Requirement already satisfied: pyparsing!=3.0.5,>=2.0.2 in c:\\users\\simone\\appdata\\local\\programs\\python\\python310\\lib\\site-packages (from packaging>=17.0->marshmallow<4.0.0,>=3.3.0->dataclasses-json<0.6.0,>=0.5.7->langchain) (3.0.9)\n",
      "Requirement already satisfied: typing-extensions>=4.2.0 in c:\\users\\simone\\appdata\\local\\programs\\python\\python310\\lib\\site-packages (from pydantic<2,>=1->langchain) (4.5.0)\n",
      "Requirement already satisfied: idna<4,>=2.5 in c:\\users\\simone\\appdata\\local\\programs\\python\\python310\\lib\\site-packages (from requests<3,>=2->langchain) (3.4)\n",
      "Requirement already satisfied: certifi>=2017.4.17 in c:\\users\\simone\\appdata\\local\\programs\\python\\python310\\lib\\site-packages (from requests<3,>=2->langchain) (2022.12.7)\n",
      "Requirement already satisfied: urllib3<3,>=1.21.1 in c:\\users\\simone\\appdata\\local\\programs\\python\\python310\\lib\\site-packages (from requests<3,>=2->langchain) (1.26.15)\n",
      "Requirement already satisfied: greenlet!=0.4.17 in c:\\users\\simone\\appdata\\local\\programs\\python\\python310\\lib\\site-packages (from SQLAlchemy<3,>=1.3->langchain) (2.0.2)\n",
      "Requirement already satisfied: networkx in c:\\users\\simone\\appdata\\local\\programs\\python\\python310\\lib\\site-packages (from torch->easyocr) (3.1)\n",
      "Requirement already satisfied: jinja2 in c:\\users\\simone\\appdata\\local\\programs\\python\\python310\\lib\\site-packages (from torch->easyocr) (3.1.2)\n",
      "Requirement already satisfied: sympy in c:\\users\\simone\\appdata\\local\\programs\\python\\python310\\lib\\site-packages (from torch->easyocr) (1.11.1)\n",
      "Requirement already satisfied: filelock in c:\\users\\simone\\appdata\\local\\programs\\python\\python310\\lib\\site-packages (from torch->easyocr) (3.12.0)\n",
      "Requirement already satisfied: colorama in c:\\users\\simone\\appdata\\local\\programs\\python\\python310\\lib\\site-packages (from tqdm>=4.48.0->langchain) (0.4.4)\n",
      "Requirement already satisfied: mypy-extensions>=0.3.0 in c:\\users\\simone\\appdata\\local\\programs\\python\\python310\\lib\\site-packages (from typing-inspect>=0.4.0->dataclasses-json<0.6.0,>=0.5.7->langchain) (1.0.0)\n",
      "Requirement already satisfied: MarkupSafe>=2.0 in c:\\users\\simone\\appdata\\local\\programs\\python\\python310\\lib\\site-packages (from jinja2->torch->easyocr) (2.1.2)\n",
      "Requirement already satisfied: six in c:\\users\\simone\\appdata\\local\\programs\\python\\python310\\lib\\site-packages (from python-bidi->easyocr) (1.16.0)\n",
      "Requirement already satisfied: tifffile>=2019.7.26 in c:\\users\\simone\\appdata\\local\\programs\\python\\python310\\lib\\site-packages (from scikit-image->easyocr) (2023.4.12)\n",
      "Requirement already satisfied: imageio>=2.4.1 in c:\\users\\simone\\appdata\\local\\programs\\python\\python310\\lib\\site-packages (from scikit-image->easyocr) (2.28.1)\n",
      "Requirement already satisfied: lazy_loader>=0.1 in c:\\users\\simone\\appdata\\local\\programs\\python\\python310\\lib\\site-packages (from scikit-image->easyocr) (0.2)\n",
      "Requirement already satisfied: PyWavelets>=1.1.1 in c:\\users\\simone\\appdata\\local\\programs\\python\\python310\\lib\\site-packages (from scikit-image->easyocr) (1.4.1)\n",
      "Requirement already satisfied: mpmath>=0.19 in c:\\users\\simone\\appdata\\local\\programs\\python\\python310\\lib\\site-packages (from sympy->torch->easyocr) (1.3.0)\n",
      "Note: you may need to restart the kernel to use updated packages.\n"
     ]
    },
    {
     "name": "stderr",
     "output_type": "stream",
     "text": [
      "WARNING: You are using pip version 21.2.3; however, version 23.1.2 is available.\n",
      "You should consider upgrading via the 'c:\\Users\\Simone\\AppData\\Local\\Programs\\Python\\Python310\\python.exe -m pip install --upgrade pip' command.\n",
      "c:\\Users\\Simone\\AppData\\Local\\Programs\\Python\\Python310\\lib\\site-packages\\fuzzywuzzy\\fuzz.py:11: UserWarning: Using slow pure-python SequenceMatcher. Install python-Levenshtein to remove this warning\n",
      "  warnings.warn('Using slow pure-python SequenceMatcher. Install python-Levenshtein to remove this warning')\n"
     ]
    },
    {
     "name": "stdout",
     "output_type": "stream",
     "text": [
      "C:\\Users\\Simone\\Documents\\Desktop\\public_and_social_services\\ricette\n"
     ]
    },
    {
     "name": "stderr",
     "output_type": "stream",
     "text": [
      "CUDA not available - defaulting to CPU. Note: This module is much faster with a GPU.\n"
     ]
    },
    {
     "name": "stdout",
     "output_type": "stream",
     "text": [
      "<class 'pandas.core.frame.DataFrame'>\n",
      "RangeIndex: 331 entries, 0 to 330\n",
      "Data columns (total 15 columns):\n",
      " #   Column                            Non-Null Count  Dtype \n",
      "---  ------                            --------------  ----- \n",
      " 0   Codice prestazione ambulatoriale  331 non-null    object\n",
      " 1   Codice branca regionale           331 non-null    object\n",
      " 2   Branca regionale                  331 non-null    object\n",
      " 3   Tipo di prestazione               331 non-null    object\n",
      " 4   Nome struttura                    331 non-null    object\n",
      " 5   Comune struttura                  331 non-null    object\n",
      " 6   Provincia struttura               331 non-null    object\n",
      " 7   Indirizzo                         331 non-null    object\n",
      " 8   Descrizione ASL                   331 non-null    object\n",
      " 9   Codice struttura                  331 non-null    object\n",
      " 10  Tipo struttura                    331 non-null    object\n",
      " 11  Telefono                          331 non-null    object\n",
      " 12  Fax                               331 non-null    object\n",
      " 13  Struttura privata                 331 non-null    object\n",
      " 14  Prezzo medio                      331 non-null    object\n",
      "dtypes: object(15)\n",
      "memory usage: 38.9+ KB\n",
      "['EMOCROMO:  Hb, GR, GB, HCT, PLT, IND. DERIV., F. L.']\n"
     ]
    }
   ],
   "source": [
    "%run Extra_tools.ipynb"
   ]
  },
  {
   "attachments": {},
   "cell_type": "markdown",
   "metadata": {},
   "source": [
    "# Notebook of Langchain"
   ]
  },
  {
   "cell_type": "code",
   "execution_count": 6,
   "metadata": {},
   "outputs": [
    {
     "name": "stdout",
     "output_type": "stream",
     "text": [
      "C:\\Users\\Simone\\Documents\\Desktop\\public_and_social_services\n"
     ]
    }
   ],
   "source": [
    "cd C:\\Users\\Simone\\Documents\\Desktop\\public_and_social_services"
   ]
  },
  {
   "cell_type": "code",
   "execution_count": 7,
   "metadata": {},
   "outputs": [
    {
     "name": "stdout",
     "output_type": "stream",
     "text": [
      "Istruzione: Usa massimo 2 - 3 frasi per rispondere a domande relative alla sanità.\n",
      "Contesto: Sei un agente AI per fornire informazioni generali all'utente legati all'ambito sanitario. Ricorda che non puoi effettuare prenotazioni o azioni simili.\n",
      "Domanda: Mi dai una definizione di calcitonina?\n",
      "\n",
      "\n",
      "\n",
      "\u001b[1m> Entering new AgentExecutor chain...\u001b[0m\n",
      "\u001b[32;1m\u001b[1;3m La calcitonina è un ormone peptidico prodotto dalle cellule C delle ghiandole paratiroidi.\n",
      "Action: Wikipedia Search\n",
      "Action Input: Calcitonina\u001b[0m\n",
      "Observation: \u001b[36;1m\u001b[1;3mPage: Calcitonina\n",
      "Summary: La calcitonina è un ormone costituito da un polipeptide di 32 aminoacidi che viene prodotto, negli esseri umani, dalle cellule parafollicolari della tiroide (note anche come cellule C, da clear, chiaro, per la loro scarsa colorabilità al microscopio ottico rispetto ai tireociti), dalle cellule K dell'epitelio respiratorio e in molti altri animali dall'Ultimopharyngeal body (ghiandola associata all'ultimo arco branchiale).\n",
      "\n",
      "La principale funzione della calcitonina è l'abbassamento della concentrazione di calcio nel sangue (Ca2+), contrasta gli effetti dell'ormone paratiroideo paratormone (PTH). Tale meccanismo di regolazione del calcio è stato riscontrato nei pesci, rettili, uccelli e mammiferi. A differenza degli studi sugli animali la sua importanza negli esseri umani non è stata ben definita, in quanto non è chiaro quanto sia rilevante la sua funzione nella regolazione dell'omeostasi del calcio normale rispetto ad altre molecole.\n",
      "L'ormone calcitonina agisce anche a livello renale, stimolando l'eliminazione tubulare di calcio. \n",
      "Veniva utilizzato nella terapia dell'osteoporosi e di altre patologie osteometaboliche. Il ruolo in queste patologie è stato però ampiamente rivalutato, ad oggi infatti la calcitonina non ha nessuna indicazione terapeutica accertata. In recenti studi inoltre è stato osservato un aumento di incidenza di osteosarcoma in pazienti in pregressa terapia cronica con calcitonina.\n",
      "\n",
      "Page: Tiroide\n",
      "Summary: La tiroide (dal greco θυρεοειδής, thyreoeidès, «a forma di scudo oblungo», composto di θυρεός, thyreòs, «scudo oblungo» e -ειδής, -eidès, «simile a») è una ghiandola endocrina, nonché il più grande viscere endocrino. Possiede una forma \"a H\" o \"a farfalla\" ed è costituita da due lobi collegati da un istmo. Si trova nella parte anteriore del collo, sotto il pomo d'Adamo. È dunque un viscere superficiale, impari e mediano. Questa posizione strategica ha consentito a molteplici chirurghi di creare un ramo specializzato della chirurgia: la chirurgia della tiroide. È grazie ai primi interventi di tiroidectomia che si posseggono conoscenze a livello istopatologico delle malattie della tiroide.Da un punto di vista fisiologico, la tiroide presenta due unità endocrine: \n",
      "\n",
      "la prima ha organizzazione follicolare ed è costituita dai tireociti T o cellule follicolari che producono e immagazzinano gli ormoni tiroidei (T3 e T4);\n",
      "la seconda ha organizzazione cordonale ed è costituita dai tireociti C o cellule parafollicolari, che producono e immagazzinano la calcitonina.La tiroide secerne gli ormoni tiroidei, che principalmente accrescono il metabolismo basale dell'organismo e stimolano la sintesi proteica. Essi hanno anche molti altri effetti, compresi quelli relativi allo sviluppo. Gli ormoni tiroidei triiodotironina (T3) e tiroxina (T4) vengono creati dallo iodio e dalla tirosina. La tiroide produce anche la calcitonina ormonale, che svolge un ruolo nell'omeostasi del calcio. La secrezione ormonale dalla tiroide è regolata dall'ormone tireostimolante (TSH) secreto dalla ghiandola pituitaria anteriore, che a sua volta è regolata dall'ormone di rilascio della tireotropina (TRH) prodotto dall'ipotalamo.La tiroide può essere interessata da diverse malattie. L'ipertiroidismo si verifica quando la ghiandola produce una quantità eccessiva di ormoni tiroidei; la causa più comune è la malattia di Graves, una malattia autoimmune. Al contrario, l'ipotiroidismo è una condizione in cui vi è una produzione insufficiente di ormone tiroideo. In tutto il mondo, la causa più comune dell'ipotiroidismo è la carenza di iodio. Gli ormoni tiroidei sono importanti per lo sviluppo e l'ipotiroidismo secondario dovuto a carenza di iodio rimane la principale causa di invalidità intellettiva prevenibile. Nelle regioni iodio-sufficienti, la causa più comune di ipotiroidismo è la tiroidite di Hashimoto, anch'essa una malattia autoimmune. Inoltre, la ghiandola tiroidea può anche sviluppare diversi tipi di noduli e neoplasie.\n",
      "\n",
      "Page: CGRP\n",
      "Summary: Il CGRP (acronimo dall'inglese Calcitonin Gene Related Peptide, peptide correlato al gene della calcitonina) è un peptide composto da 37 amminoacidi ed è prodotto tramite lo splicing alternativo della calcitonina, un gene localizzato sul cromosoma 11.\n",
      "È un potente peptide vasodilatatore e può intervenire nella trasmissione del dolore, interessando il sistema nervoso periferico e centrale.\n",
      "L'aumento dei livelli di CGRP è stato segnalato in emicrania e una serie di altre malattie, come l'insufficienza cardiaca e l'ipertensione.\u001b[0m\n",
      "Thought:\u001b[32;1m\u001b[1;3m Ho raccolto tutte le informazioni necessarie per rispondere alla domanda.\n",
      "Final Answer: La calcitonina è un ormone peptidico prodotto dalle cellule C delle ghiandole paratiroidi, che ha come principale funzione l'abbassamento della concentrazione di calcio nel sangue (Ca2+). Agisce anche a livello renale, stimolando l'eliminazione tubulare di calcio. La sua produzione è regolata dall'ormone tireostimolante (TSH) secreto dalla ghiandola pituitaria anteriore, che a sua volta è regolata dall'ormone di rilascio della tireotropina (TRH) prodotto dall'ipotalamo. La calcitonina è anche correlata al peptide CGRP (Calcitonin Gene Related Peptide), un peptide vasodilatatore che può intervenire nella trasmissione del dolore.\u001b[0m\n",
      "\n",
      "\u001b[1m> Finished chain.\u001b[0m\n",
      "Istruzione: Usa massimo 2 - 3 frasi per rispondere a domande relative alla sanità.\n",
      "Contesto: Sei un agente AI per fornire informazioni generali all'utente legati all'ambito sanitario. Ricorda che non puoi effettuare prenotazioni o azioni simili.\n",
      "Domanda: Che cos'è l'emocromo e perchè devo fare le analisi di sangue dell'emocromo?\n",
      "\n",
      "\n",
      "\n",
      "\u001b[1m> Entering new AgentExecutor chain...\u001b[0m\n",
      "\u001b[32;1m\u001b[1;3m Devo trovare informazioni sull'emocromo e su perché è importante farlo.\n",
      "Action: Wikipedia Search\n",
      "Action Input: Emocromo\u001b[0m\n",
      "Observation: \u001b[36;1m\u001b[1;3mPage: Emocromo\n",
      "Summary: L'emocromo (abbreviazione comunemente usata per esame emocromocitometrico, dalle parole greche haima: sangue, khroma: colore, kytos: cellula, e metron: misura; riferite al colore e alla quantità delle cellule del sangue), o emogramma, è un esame di laboratorio sul sangue; esso determina la quantità degli elementi corpuscolati (leucociti o globuli bianchi, eritrociti o globuli rossi, e trombociti o piastrine), i livelli dell'ematocrito (HCT), e dell'emoglobina (Hb), nonché altri parametri del sangue.\n",
      "In inglese l'esame è detto complete blood count (CBC): \"conta completa del sangue\", in francese hémogramme e in spagnolo hemograma o biometría hemática (\"biometria ematica\").\n",
      "Il sangue prelevato viene conservato a temperatura ambiente in una provetta contenente un anticoagulante (EDTA, citrato, ecc.). Successivamente viene analizzato con un macchinario chiamato contaglobuli. Tramite un sistema di vuoto aspira il sangue dalle provette mandandolo in tre diverse camere dove verranno contati, con un sistema impedenziometrico, due volte i diversi componenti del sangue; la media aritmetica delle due conte darà il valore finale, il tutto in poche decine di secondi.\n",
      "\n",
      "Page: Pseudopiastrinopenia\n",
      "Summary: La pseudopiastrinopenia o pseudotrombocitopenia è una piastrinopenia apparente che si rileva esclusivamente in vitro, cioè all'emocromo risulta un valore di piastrine inferiore a 150.000/microlitro nel sangue periferico.Questo accade perché le piastrine suscettibili, a contatto con l’anticoagulante classicamente presente nelle provette da emocromo (l'EDTA) formano degli aggregati, rendendo inesatta la rilevazione strumentale. L'evento è anche dipendente da pH, temperatura e tempo. È possibile che vi sia un meccanismo anticorpo-mediato, rivolto contro antigeni della membrana piastrinica.Altre cause di pseudopiastrinopenia possono essere la presenza di crioagglutinine, o una procedura di prelievo non adeguata, con traumatismi al vaso venoso ed attivazione dei meccanismi di coagulazione della parete vascolare.La diagnosi differenziale con altre piastrinopenie si effettua attraverso un emocromo con diversi anticoagulanti (Eparina, Citrato, EDTA), per evidenziare le pseudopiastrinopenie da anticoagulante, oppure effettuando una conta sullo striscio di sangue periferico.\n",
      "Studi clinici hanno rilevato, nei pazienti ospedalizzati, associazioni con neoplasie solide (24,3%), sindromi mieloproliferative e linfoproliferative (18,9%) e patologie autoimmuni (10,8%). Nei pazienti anziani ed ospedalizzati deve quindi essere considerato un segno di allarme per ricercare patologie sottostanti più severe.\n",
      "\n",
      "Page: Leucemia mielomonocitica giovanile\n",
      "Summary: La leucemia mielomonocitica giovanile è una rara forma di leucemia mieloide cronica che colpisce i bambini dagli 1 ai 9 anni. È definita leucemia sub-acuta poiché il suo decorso è indolente e stabile nel tempo pur mantenendo l'aggressività delle leucemie acute. È la forma più comune di leucemia cronica dell'età evolutiva.\u001b[0m\n",
      "Thought:\u001b[32;1m\u001b[1;3m Ho trovato informazioni sufficienti per rispondere alla domanda.\n",
      "Final Answer: L'emocromo è un esame di laboratorio sul sangue che determina la quantità degli elementi corpuscolati (leucociti o globuli bianchi, eritrociti o globuli rossi, e trombociti o piastrine), i livelli dell'ematocrito (HCT), e dell'emoglobina (Hb), nonché altri parametri del sangue. È importante farlo perché può aiutare a diagnosticare malattie come la leucemia mielomonocitica giovanile.\u001b[0m\n",
      "\n",
      "\u001b[1m> Finished chain.\u001b[0m\n",
      "\n",
      "\n",
      "\u001b[1m> Entering new AgentExecutor chain...\u001b[0m\n",
      "\u001b[32;1m\u001b[1;3m Devo trovare informazioni sui valori normali di emocromo per una donna sana.\n",
      "Action: Wikipedia Search\n",
      "Action Input: Valori normali di emocromo per una donna sana\u001b[0m\n",
      "Observation: \u001b[36;1m\u001b[1;3mPage: COVID-19\n",
      "Summary: La COVID-19 (acronimo dell'inglese COronaVIrus Disease 19), conosciuta anche come malattia respiratoria acuta da SARS-CoV-2 o malattia da coronavirus 2019, è una malattia infettiva respiratoria causata dal virus denominato SARS-CoV-2 appartenente alla famiglia dei coronavirus.\n",
      "Il termine \"COVID\" viene impropriamente e ormai largamente usato al maschile come sinonimo del virus stesso, sebbene invece si riferisca alla patologia da causata da esso. \n",
      "I primi casi accertati sono stati riscontrati in Cina. Al 9 settembre 2021 il suo tasso di letalità apparente (CFR) è del 2,06%. Il tasso di letalità per infezione (IFR, che include tutti gli infetti, anche coloro che contraggono la COVID ma non fanno un test in cui risultano positivi, o per mancanza di disponibilità o perché sono asintomatici o hanno sintomi lievi) è stato invece stimato, per la prima ondata della pandemia, tra la 0,5 e il 2% in base al Paese, con forti differenze per fascia d'età (dallo 0,004% per i minori di 34 anni al 28,3% per i maggiori di 85).Il periodo di incubazione mediamente è di 5,1 giorni (IC 96% 4,1 - 7,0 giorni) con il 95º percentile di 12,5 giorni. I risultati di studio sulla correlazione tra dati di tracciamento dei contatti e casi positivi registrati suggeriscono ulteriori conferme di questi valori.\n",
      "Per questo motivo è stato indicato un periodo di isolamento di 14 giorni dalla possibile esposizione a un caso sospetto o accertato. Durante il periodo di incubazione si è contagiosi, successivamente possono comparire i sintomi. Il virus si trasmette per via aerea, molto spesso tramite le goccioline respiratorie. Per limitarne la trasmissione devono essere prese precauzioni, come mantenere la distanza interpersonale di almeno 1,5 metri e tenere comportamenti corretti sul piano dell’igiene personale (lavare e disinfettare periodicamente le mani, starnutire o tossire in un fazzoletto o nell'incavo del gomito, indossare mascherine e guanti) e ambientale (rinnovare spesso l'aria negli ambienti chiusi aprendo le finestre e mantenere gli ambienti molto puliti). I governi e gli enti competenti consigliano a coloro che ritengono di essere infetti di rimanere in isolamento fiduciario, indossare una mascherina chirurgica, osservare le regole di igiene e contattare quanto prima un medico al fine di ricevere ulteriori indicazioni.Il virus colpisce principalmente il tratto respiratorio superiore e inferiore ma può provocare sintomi che riguardano tutti gli organi e apparati. In oltre la metà dei casi l'infezione decorre in maniera del tutto asintomatica e in circa un terzo dei casi presenta sintomi simil-influenzali (forma pauci-sintomatica). In una minoranza di casi (circa 5-6% dei casi) invece la malattia può manifestarsi in forma moderata o grave con rischio di complicanze soprattutto respiratorie (insufficienza respiratoria, ARDS).I sintomi simil-influenzali più frequenti sono: febbre, tosse, cefalea (mal di testa), dispnea (respiro corto), artralgie e mialgie (dolore ad articolazioni e ai muscoli), astenia (stanchezza) e disturbi gastrointestinali quali la diarrea; sintomi caratteristici della patologia COVID-19 sono l'anosmia (perdita dell'olfatto) e l'ageusia (perdita del gusto), transitorie.\n",
      "Nei casi più gravi può verificarsi una polmonite, una sindrome da distress respiratorio acuto, sepsi e uno shock settico fino ad arrivare al decesso del paziente. Sono in fase di sperimentazione oltre 76 vaccini specifici per questa malattia, di cui:\n",
      "\n",
      "40 in fase I (studio delle caratteristiche del farmaco);\n",
      "17 in fase II (studio sulla sicurezza del farmaco);\n",
      "13 in fase III (studio sull'efficacia del farmaco);\n",
      "6 (approvati per uso limitato) in fase IV (studio di farmaco-sorveglianza).Il trattamento consiste nell'isolare il paziente per prevenire la diffusione del contagio e nel curare i sintomi clinici.\n",
      "\n",
      "\u001b[0m\n",
      "Thought:\u001b[32;1m\u001b[1;3m Non ho trovato informazioni sui valori normali di emocromo per una donna sana.\n",
      "Action: Search\n",
      "Action Input: Valori normali di emocromo per una donna sana\u001b[0m\n",
      "Observation: \u001b[33;1m\u001b[1;3mValori normali Emocromo Uomo Donna Emoglobina (Hb) 13,5-18 g/dl 12-16 g/dl Eritrociti/μl (RBC) 4,6-6,2 x 106 4,2-5,4 x 106 Volume corpuscolare medio (MCV) 80-98 fl 81-99 fl Emoglobina corpuscolare media (MCH) 26-32 pg 26-32 pg\u001b[0m\n",
      "Thought:\u001b[32;1m\u001b[1;3m Ho trovato i valori normali di emocromo per una donna sana.\n",
      "Final Answer: I valori normali di emocromo per una donna sana sono: emoglobina (Hb) 12-16 g/dl, eritrociti/μl (RBC) 4,2-5,4 x 106, volume corpuscolare medio (MCV) 81-99 fl, emoglobina corpuscolare media (MCH) 26-32 pg.\u001b[0m\n",
      "\n",
      "\u001b[1m> Finished chain.\u001b[0m\n",
      "\n",
      "\n",
      "\u001b[1m> Entering new AgentExecutor chain...\u001b[0m\n",
      "\u001b[32;1m\u001b[1;3m Devo trovare informazioni sui valori dell'emocromo.\n",
      "Action: Wikipedia Search\n",
      "Action Input: Valori dell'emocromo\u001b[0m\n",
      "Observation: \u001b[36;1m\u001b[1;3mPage: Emocromo\n",
      "Summary: L'emocromo (abbreviazione comunemente usata per esame emocromocitometrico, dalle parole greche haima: sangue, khroma: colore, kytos: cellula, e metron: misura; riferite al colore e alla quantità delle cellule del sangue), o emogramma, è un esame di laboratorio sul sangue; esso determina la quantità degli elementi corpuscolati (leucociti o globuli bianchi, eritrociti o globuli rossi, e trombociti o piastrine), i livelli dell'ematocrito (HCT), e dell'emoglobina (Hb), nonché altri parametri del sangue.\n",
      "In inglese l'esame è detto complete blood count (CBC): \"conta completa del sangue\", in francese hémogramme e in spagnolo hemograma o biometría hemática (\"biometria ematica\").\n",
      "Il sangue prelevato viene conservato a temperatura ambiente in una provetta contenente un anticoagulante (EDTA, citrato, ecc.). Successivamente viene analizzato con un macchinario chiamato contaglobuli. Tramite un sistema di vuoto aspira il sangue dalle provette mandandolo in tre diverse camere dove verranno contati, con un sistema impedenziometrico, due volte i diversi componenti del sangue; la media aritmetica delle due conte darà il valore finale, il tutto in poche decine di secondi.\n",
      "\n",
      "Page: Leucemia mieloide cronica\n",
      "Summary: La leucemia mieloide cronica (LMC) è una condizione clinica patologica determinata dalla proliferazione monoclonale incontrollata di una sola cellula multipotente colpita dall'evento leucemogeno. La malattia può coinvolgere le linee mieloide, monocitica, eritroide, megacariocitica e talora anche il compartimento linfoide.\n",
      "Gli anni 2005-2010 hanno visto un cambiamento radicale nella terapia e nella prognosi della leucemia mieloide cronica, ottenuto grazie all'utilizzo delle conoscenze sulla patogenesi molecolare della malattia; il miglioramento è stato paragonato alla scoperta degli antibiotici per il trattamento delle malattie causate da batteri.\n",
      "Vi sono molti trattamenti possibili per la leucemia mieloide cronica, ma lo standard per le nuove diagnosi è la terapia con imatinib. Rispetto alla maggior parte dei farmaci anti-tumorali, l'imatinib possiede relativamente pochi effetti collaterali e può essere assunto per via orale al proprio domicilio. Con questo farmaco, più del 90% dei pazienti sono in grado di mantenere la malattia sotto controllo per almeno cinque anni, in modo che la condizione cronica diventi gestibile.\n",
      "\n",
      "Page: Ematocrito\n",
      "Summary: L'ematocrito (pronuncia: /emaˈtɔkrito/; abbreviato con Ht o HCT) è un esame del sangue che indica la percentuale del volume sanguigno occupata dagli eritrociti, escludendo le leucocitrine. Il suo valore normale varia dal 37% al 47% per le donne, mentre normalmente per il sesso maschile è più alto (42-52%), mentre nei neonati ha un valore molto alto e si riduce in caso di età avanzata e gravidanza. La percentuale restante è occupata dalla frazione liquida, il plasma.\n",
      "Questo esame è considerato parte integrante del risultato totale del sangue di una persona, insieme con la concentrazione dell'emoglobina, al numero di globuli bianchi e alla conta piastrinica.  Un ematocrito del campione di sangue ossia la percentuale di volume dei globuli rossi all'interno del sangue serve per capire il grado di capacità di fornire ossigeno ai tessuti.Al contrario, tale valore aumenta in tutte quelle situazioni nelle quali si ha esuberante produzione di globuli rossi e di emoconcentrazione, con conseguente riduzione della frazione plasmatica del sangue (policitemia). In questo caso aumenta notevolmente la viscosità del sangue e secondo la legge di Hagen-Poiseuille la velocità del sangue viene notevolmente diminuita.\u001b[0m\n",
      "Thought:\u001b[32;1m\u001b[1;3m Ho trovato informazioni sufficienti per rispondere alla domanda.\n",
      "Final Answer: Un valore dell'emocromo oltre il 50% indica una condizione di policitemia, cioè una produzione eccessiva di globuli rossi. Questo può essere causato da alcune malattie come la leucemia mieloide cronica, ma può anche essere una condizione temporanea. È importante consultare un medico per una diagnosi accurata.\u001b[0m\n",
      "\n",
      "\u001b[1m> Finished chain.\u001b[0m\n",
      "\n",
      "\n",
      "\u001b[1m> Entering new AgentExecutor chain...\u001b[0m\n",
      "\u001b[32;1m\u001b[1;3m Devo trovare informazioni su cosa sono le analisi ALTRE TRAZIONI CUTANEE DEGLI ARTI.\n",
      "Action: Wikipedia Search\n",
      "Action Input: Analisi ALTRE TRAZIONI CUTANEE DEGLI ARTI\u001b[0m\n",
      "Observation: \u001b[36;1m\u001b[1;3mNo good Wikipedia Search Result was found\u001b[0m\n",
      "Thought:\u001b[32;1m\u001b[1;3m Proverò a cercare informazioni su un motore di ricerca\n",
      "Action: Search\n",
      "Action Input: Analisi ALTRE TRAZIONI CUTANEE DEGLI ARTI\u001b[0m\n",
      "Observation: \u001b[33;1m\u001b[1;3mIl paziente ortopedico sottoposto a trazione necessita di un'assistenza specifica in base al tipo e alla sede della frattura, ... Definizione del termine medico Altre Trazioni Cutanee degli Arti : Si tratta dell'uso di opportuni apparecchi per eseguire la trazione, ... Missing: Analisi | Must include:Analisi. Le lesioni vascolari degli arti inferiori vengono definite come quelle ferite cutanee ad eziologia vascolare venosa, arteriosa e/o mista, che si localizzano ... Il trattamento, che dipende dal tipo e dalla gravità della frattura, può includere: antidolorifici, terapia PRICE (protezione, riposo, ghiaccio, compressione e ... Escl.: fistola cutanea da organi interni - con- sultare l'Indice Alfabetico. ALTRE CONDIZIONI INFIAMMATORIE DELLA CUTE. E DEL TESSUTO SOTTOCUTANEO (690-698). analisi cinematica dell'arto superiore o inferiore o del tronco; analisi dinamometrica dell'arto superiore o inferiore o del tronco; analisi dinamometrica ... altre trazioni cutanee degli arti;; altre correzioni forzate di deformità. Per prenotazioni o informazioni, telefonare al numero del Centro Unico di ... Le reazioni cutanee rappresentano alcuni dei principali effetti collaterali degli antibio- tici sistemici (soprattutto le cefalosporine): eruzione esantematica ... ACQUISITA ((HIV )) ANALISI QUALITATIVA DI RNA (Previa reazione ... seduta (Ciclo di dieci sedute) 93.46 ALTRE TRAZIONI CUTANEE DEGLI ARTI 22.000 Trazione ... TRAZIONI CUTANEE DEGLI ARTI INF. 93.46. ALTRE TRAZIONI CUTANEE DEGLI ARTI Trazione : con nastro ades. 11,36. 93460.002.\u001b[0m\n",
      "Thought:\u001b[32;1m\u001b[1;3m Ho trovato informazioni sufficienti per rispondere alla domanda\n",
      "Final Answer: Le analisi ALTRE TRAZIONI CUTANEE DEGLI ARTI sono un trattamento ortopedico che prevede l'uso di apparecchi per eseguire la trazione, al fine di correggere deformità o trattare fratture. Può anche essere usato per trattare lesioni vascolari degli arti inferiori.\u001b[0m\n",
      "\n",
      "\u001b[1m> Finished chain.\u001b[0m\n",
      "\n",
      "\n",
      "\u001b[1m> Entering new AgentExecutor chain...\u001b[0m\n",
      "\u001b[32;1m\u001b[1;3m La domanda non è correlata alla sanità, quindi non posso usare Wikipedia Search o Search.\n",
      "Action: No answer\n",
      "Action Input: Consigliami la migliore pizzeria di Milano\u001b[0m\n",
      "Observation: \u001b[38;5;200m\u001b[1;3mNon mi è consentito rispondere a questo tipo di domande perché non sono legate all'ambito sanitario.\u001b[0m\n",
      "Thought:\u001b[32;1m\u001b[1;3m Ho capito che non posso rispondere a questa domanda.\n",
      "Final Answer: Non posso rispondere a questa domanda perché non è correlata alla sanità.\u001b[0m\n",
      "\n",
      "\u001b[1m> Finished chain.\u001b[0m\n",
      "Running on local URL:  http://127.0.0.1:7860\n",
      "\n",
      "To create a public link, set `share=True` in `launch()`.\n"
     ]
    },
    {
     "data": {
      "text/html": [
       "<div><iframe src=\"http://127.0.0.1:7860/\" width=\"100%\" height=\"500\" allow=\"autoplay; camera; microphone; clipboard-read; clipboard-write;\" frameborder=\"0\" allowfullscreen></iframe></div>"
      ],
      "text/plain": [
       "<IPython.core.display.HTML object>"
      ]
     },
     "metadata": {},
     "output_type": "display_data"
    }
   ],
   "source": [
    "%run Langchain.ipynb"
   ]
  },
  {
   "attachments": {},
   "cell_type": "markdown",
   "metadata": {},
   "source": [
    "# Demo"
   ]
  },
  {
   "attachments": {},
   "cell_type": "markdown",
   "metadata": {},
   "source": [
    "Per accedere al chatbot: http://127.0.0.1:7860\n",
    "\n",
    "Per utilizzare il tool_extra per trovare gli ambulatori utilizzare la seguente funzione: match_recipe_to_dataset_and_create_df"
   ]
  },
  {
   "cell_type": "code",
   "execution_count": 8,
   "metadata": {},
   "outputs": [
    {
     "name": "stdout",
     "output_type": "stream",
     "text": [
      "C:\\Users\\Simone\\Documents\\Desktop\\public_and_social_services\\ricette\n"
     ]
    }
   ],
   "source": [
    "cd C:\\Users\\Simone\\Documents\\Desktop\\public_and_social_services\\ricette"
   ]
  },
  {
   "cell_type": "code",
   "execution_count": 15,
   "metadata": {},
   "outputs": [],
   "source": [
    "Varicella = match_recipe_to_dataset_and_create_df('ricetta_4.pdf',dataset)"
   ]
  },
  {
   "cell_type": "code",
   "execution_count": 13,
   "metadata": {},
   "outputs": [
    {
     "data": {
      "text/html": [
       "<div>\n",
       "<style scoped>\n",
       "    .dataframe tbody tr th:only-of-type {\n",
       "        vertical-align: middle;\n",
       "    }\n",
       "\n",
       "    .dataframe tbody tr th {\n",
       "        vertical-align: top;\n",
       "    }\n",
       "\n",
       "    .dataframe thead th {\n",
       "        text-align: right;\n",
       "    }\n",
       "</style>\n",
       "<table border=\"1\" class=\"dataframe\">\n",
       "  <thead>\n",
       "    <tr style=\"text-align: right;\">\n",
       "      <th></th>\n",
       "      <th>Codice prestazione ambulatoriale</th>\n",
       "      <th>Codice branca regionale</th>\n",
       "      <th>Branca regionale</th>\n",
       "      <th>Tipo di prestazione</th>\n",
       "      <th>Nome struttura</th>\n",
       "      <th>Comune struttura</th>\n",
       "      <th>Provincia struttura</th>\n",
       "      <th>Indirizzo</th>\n",
       "      <th>Descrizione ASL</th>\n",
       "      <th>Codice struttura</th>\n",
       "      <th>Tipo struttura</th>\n",
       "      <th>Telefono</th>\n",
       "      <th>Fax</th>\n",
       "      <th>Struttura privata</th>\n",
       "      <th>Prezzo medio</th>\n",
       "    </tr>\n",
       "  </thead>\n",
       "  <tbody>\n",
       "    <tr>\n",
       "      <th>100</th>\n",
       "      <td>VIRUS VARICELLA ZOSTER ANTICORPI (E.I.A.)</td>\n",
       "      <td>91271</td>\n",
       "      <td>MICROBIOLOGIA-VIROLOGIA</td>\n",
       "      <td>LABORATORIO</td>\n",
       "      <td>CENTRO BIOMEDICO BERGAMASCO SRL</td>\n",
       "      <td>BERGAMO</td>\n",
       "      <td>BG</td>\n",
       "      <td>ROTONDA DEI MILLE 3/A</td>\n",
       "      <td>ATS DI BERGAMO</td>\n",
       "      <td>1359.0</td>\n",
       "      <td>Servizio di Medicina di Laboratorio</td>\n",
       "      <td>035222332</td>\n",
       "      <td>035236267</td>\n",
       "      <td>Sì</td>\n",
       "      <td>7.75</td>\n",
       "    </tr>\n",
       "    <tr>\n",
       "      <th>195</th>\n",
       "      <td>VIRUS VARICELLA ZOSTER ANTICORPI (E.I.A.)</td>\n",
       "      <td>91271</td>\n",
       "      <td>MICROBIOLOGIA-VIROLOGIA</td>\n",
       "      <td>LABORATORIO</td>\n",
       "      <td>LABORATORIO BIOANALITICO DELTA SRL</td>\n",
       "      <td>BERGAMO</td>\n",
       "      <td>BG</td>\n",
       "      <td>VIA CLARA MAFFEI 14</td>\n",
       "      <td>ATS DI BERGAMO</td>\n",
       "      <td>1252.0</td>\n",
       "      <td>Servizio di Medicina di Laboratorio</td>\n",
       "      <td>035221565</td>\n",
       "      <td>035235848</td>\n",
       "      <td>Sì</td>\n",
       "      <td>7.75</td>\n",
       "    </tr>\n",
       "  </tbody>\n",
       "</table>\n",
       "</div>"
      ],
      "text/plain": [
       "              Codice prestazione ambulatoriale Codice branca regionale  \\\n",
       "100  VIRUS VARICELLA ZOSTER ANTICORPI (E.I.A.)                   91271   \n",
       "195  VIRUS VARICELLA ZOSTER ANTICORPI (E.I.A.)                   91271   \n",
       "\n",
       "            Branca regionale Tipo di prestazione  \\\n",
       "100  MICROBIOLOGIA-VIROLOGIA         LABORATORIO   \n",
       "195  MICROBIOLOGIA-VIROLOGIA         LABORATORIO   \n",
       "\n",
       "                         Nome struttura Comune struttura Provincia struttura  \\\n",
       "100     CENTRO BIOMEDICO BERGAMASCO SRL          BERGAMO                  BG   \n",
       "195  LABORATORIO BIOANALITICO DELTA SRL          BERGAMO                  BG   \n",
       "\n",
       "                 Indirizzo Descrizione ASL Codice struttura  \\\n",
       "100  ROTONDA DEI MILLE 3/A  ATS DI BERGAMO           1359.0   \n",
       "195    VIA CLARA MAFFEI 14  ATS DI BERGAMO           1252.0   \n",
       "\n",
       "                          Tipo struttura   Telefono        Fax  \\\n",
       "100  Servizio di Medicina di Laboratorio  035222332  035236267   \n",
       "195  Servizio di Medicina di Laboratorio  035221565  035235848   \n",
       "\n",
       "    Struttura privata Prezzo medio  \n",
       "100                Sì         7.75  \n",
       "195                Sì         7.75  "
      ]
     },
     "execution_count": 13,
     "metadata": {},
     "output_type": "execute_result"
    }
   ],
   "source": [
    "filter_data(Varicella,'BERGAMO','Sì')"
   ]
  },
  {
   "cell_type": "code",
   "execution_count": null,
   "metadata": {},
   "outputs": [],
   "source": []
  }
 ],
 "metadata": {
  "kernelspec": {
   "display_name": "Python 3",
   "language": "python",
   "name": "python3"
  },
  "language_info": {
   "codemirror_mode": {
    "name": "ipython",
    "version": 3
   },
   "file_extension": ".py",
   "mimetype": "text/x-python",
   "name": "python",
   "nbconvert_exporter": "python",
   "pygments_lexer": "ipython3",
   "version": "3.10.0"
  },
  "orig_nbformat": 4
 },
 "nbformat": 4,
 "nbformat_minor": 2
}
