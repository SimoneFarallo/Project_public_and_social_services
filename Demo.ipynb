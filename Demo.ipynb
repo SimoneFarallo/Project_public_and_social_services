{
 "cells": [
  {
   "attachments": {},
   "cell_type": "markdown",
   "metadata": {},
   "source": [
    "# Preliminary operations"
   ]
  },
  {
   "cell_type": "code",
   "execution_count": 1,
   "metadata": {},
   "outputs": [
    {
     "name": "stdout",
     "output_type": "stream",
     "text": [
      " Il volume nell'unit� C � Windows\n",
      " Numero di serie del volume: BEF8-AC01\n",
      "\n",
      " Directory di c:\\Users\\Simone\\Documents\\Desktop\\public_and_social_services\n",
      "\n",
      "15/06/2023  15:56    <DIR>          .\n",
      "15/06/2023  15:56    <DIR>          ..\n",
      "06/06/2023  16:46             6.148 .DS_Store\n",
      "13/06/2023  17:13    <DIR>          data\n",
      "15/06/2023  16:19            18.093 Demo.ipynb\n",
      "13/06/2023  17:13           174.889 EDA_domains.ipynb\n",
      "15/06/2023  15:55         2.976.082 Extra_tools.ipynb\n",
      "08/06/2023  17:08    <DIR>          flagged\n",
      "15/06/2023  16:18            46.464 Langchain.ipynb\n",
      "08/05/2023  15:03    <DIR>          ricette\n",
      "               5 File      3.221.676 byte\n",
      "               5 Directory  28.264.353.792 byte disponibili\n"
     ]
    }
   ],
   "source": [
    "ls"
   ]
  },
  {
   "cell_type": "code",
   "execution_count": 2,
   "metadata": {},
   "outputs": [
    {
     "name": "stdout",
     "output_type": "stream",
     "text": [
      "c:\\Users\\Simone\\Documents\\Desktop\\public_and_social_services\n"
     ]
    }
   ],
   "source": [
    "cd C:\\Users\\Simone\\Documents\\Desktop\\public_and_social_services"
   ]
  },
  {
   "attachments": {},
   "cell_type": "markdown",
   "metadata": {},
   "source": [
    "# Notebook of Extra tool"
   ]
  },
  {
   "cell_type": "code",
   "execution_count": 1,
   "metadata": {},
   "outputs": [
    {
     "name": "stdout",
     "output_type": "stream",
     "text": [
      "Requirement already satisfied: pypdf in c:\\users\\simone\\appdata\\local\\programs\\python\\python310\\lib\\site-packages (3.8.1)\n",
      "Requirement already satisfied: langchain in c:\\users\\simone\\appdata\\local\\programs\\python\\python310\\lib\\site-packages (0.0.158)\n",
      "Requirement already satisfied: tika in c:\\users\\simone\\appdata\\local\\programs\\python\\python310\\lib\\site-packages (2.6.0)\n",
      "Requirement already satisfied: typing in c:\\users\\simone\\appdata\\local\\programs\\python\\python310\\lib\\site-packages (3.7.4.3)\n",
      "Requirement already satisfied: fuzzywuzzy in c:\\users\\simone\\appdata\\local\\programs\\python\\python310\\lib\\site-packages (0.18.0)\n",
      "Requirement already satisfied: pymupdf in c:\\users\\simone\\appdata\\local\\programs\\python\\python310\\lib\\site-packages (1.22.2)\n",
      "Requirement already satisfied: easyocr in c:\\users\\simone\\appdata\\local\\programs\\python\\python310\\lib\\site-packages (1.6.2)\n",
      "Requirement already satisfied: requests<3,>=2 in c:\\users\\simone\\appdata\\local\\programs\\python\\python310\\lib\\site-packages (from langchain) (2.30.0)\n",
      "Requirement already satisfied: numpy<2,>=1 in c:\\users\\simone\\appdata\\local\\programs\\python\\python310\\lib\\site-packages (from langchain) (1.24.1)\n",
      "Requirement already satisfied: tenacity<9.0.0,>=8.1.0 in c:\\users\\simone\\appdata\\local\\programs\\python\\python310\\lib\\site-packages (from langchain) (8.2.2)\n",
      "Requirement already satisfied: numexpr<3.0.0,>=2.8.4 in c:\\users\\simone\\appdata\\local\\programs\\python\\python310\\lib\\site-packages (from langchain) (2.8.4)\n",
      "Requirement already satisfied: SQLAlchemy<3,>=1.3 in c:\\users\\simone\\appdata\\local\\programs\\python\\python310\\lib\\site-packages (from langchain) (2.0.12)\n",
      "Requirement already satisfied: async-timeout<5.0.0,>=4.0.0 in c:\\users\\simone\\appdata\\local\\programs\\python\\python310\\lib\\site-packages (from langchain) (4.0.2)\n",
      "Requirement already satisfied: PyYAML>=5.4.1 in c:\\users\\simone\\appdata\\local\\programs\\python\\python310\\lib\\site-packages (from langchain) (6.0)\n",
      "Requirement already satisfied: tqdm>=4.48.0 in c:\\users\\simone\\appdata\\local\\programs\\python\\python310\\lib\\site-packages (from langchain) (4.64.0)\n",
      "Requirement already satisfied: pydantic<2,>=1 in c:\\users\\simone\\appdata\\local\\programs\\python\\python310\\lib\\site-packages (from langchain) (1.10.7)\n",
      "Requirement already satisfied: dataclasses-json<0.6.0,>=0.5.7 in c:\\users\\simone\\appdata\\local\\programs\\python\\python310\\lib\\site-packages (from langchain) (0.5.7)\n",
      "Requirement already satisfied: aiohttp<4.0.0,>=3.8.3 in c:\\users\\simone\\appdata\\local\\programs\\python\\python310\\lib\\site-packages (from langchain) (3.8.4)\n",
      "Requirement already satisfied: openapi-schema-pydantic<2.0,>=1.2 in c:\\users\\simone\\appdata\\local\\programs\\python\\python310\\lib\\site-packages (from langchain) (1.2.4)\n",
      "Requirement already satisfied: setuptools in c:\\users\\simone\\appdata\\local\\programs\\python\\python310\\lib\\site-packages (from tika) (57.4.0)\n",
      "Requirement already satisfied: scipy in c:\\users\\simone\\appdata\\local\\programs\\python\\python310\\lib\\site-packages (from easyocr) (1.8.1)\n",
      "Requirement already satisfied: python-bidi in c:\\users\\simone\\appdata\\local\\programs\\python\\python310\\lib\\site-packages (from easyocr) (0.4.2)\n",
      "Requirement already satisfied: pyclipper in c:\\users\\simone\\appdata\\local\\programs\\python\\python310\\lib\\site-packages (from easyocr) (1.3.0.post4)\n",
      "Requirement already satisfied: torchvision>=0.5 in c:\\users\\simone\\appdata\\local\\programs\\python\\python310\\lib\\site-packages (from easyocr) (0.15.1)\n",
      "Requirement already satisfied: opencv-python-headless<=4.5.4.60 in c:\\users\\simone\\appdata\\local\\programs\\python\\python310\\lib\\site-packages (from easyocr) (4.5.4.60)\n",
      "Requirement already satisfied: scikit-image in c:\\users\\simone\\appdata\\local\\programs\\python\\python310\\lib\\site-packages (from easyocr) (0.20.0)\n",
      "Requirement already satisfied: Pillow in c:\\users\\simone\\appdata\\local\\programs\\python\\python310\\lib\\site-packages (from easyocr) (9.2.0)\n",
      "Requirement already satisfied: ninja in c:\\users\\simone\\appdata\\local\\programs\\python\\python310\\lib\\site-packages (from easyocr) (1.11.1)\n",
      "Requirement already satisfied: torch in c:\\users\\simone\\appdata\\local\\programs\\python\\python310\\lib\\site-packages (from easyocr) (2.0.0)\n",
      "Requirement already satisfied: Shapely in c:\\users\\simone\\appdata\\local\\programs\\python\\python310\\lib\\site-packages (from easyocr) (2.0.1)\n",
      "Requirement already satisfied: aiosignal>=1.1.2 in c:\\users\\simone\\appdata\\local\\programs\\python\\python310\\lib\\site-packages (from aiohttp<4.0.0,>=3.8.3->langchain) (1.3.1)\n",
      "Requirement already satisfied: attrs>=17.3.0 in c:\\users\\simone\\appdata\\local\\programs\\python\\python310\\lib\\site-packages (from aiohttp<4.0.0,>=3.8.3->langchain) (23.1.0)\n",
      "Requirement already satisfied: yarl<2.0,>=1.0 in c:\\users\\simone\\appdata\\local\\programs\\python\\python310\\lib\\site-packages (from aiohttp<4.0.0,>=3.8.3->langchain) (1.9.2)\n",
      "Requirement already satisfied: multidict<7.0,>=4.5 in c:\\users\\simone\\appdata\\local\\programs\\python\\python310\\lib\\site-packages (from aiohttp<4.0.0,>=3.8.3->langchain) (6.0.4)\n",
      "Requirement already satisfied: frozenlist>=1.1.1 in c:\\users\\simone\\appdata\\local\\programs\\python\\python310\\lib\\site-packages (from aiohttp<4.0.0,>=3.8.3->langchain) (1.3.3)\n",
      "Requirement already satisfied: charset-normalizer<4.0,>=2.0 in c:\\users\\simone\\appdata\\local\\programs\\python\\python310\\lib\\site-packages (from aiohttp<4.0.0,>=3.8.3->langchain) (3.1.0)\n",
      "Requirement already satisfied: typing-inspect>=0.4.0 in c:\\users\\simone\\appdata\\local\\programs\\python\\python310\\lib\\site-packages (from dataclasses-json<0.6.0,>=0.5.7->langchain) (0.8.0)\n",
      "Requirement already satisfied: marshmallow-enum<2.0.0,>=1.5.1 in c:\\users\\simone\\appdata\\local\\programs\\python\\python310\\lib\\site-packages (from dataclasses-json<0.6.0,>=0.5.7->langchain) (1.5.1)\n",
      "Requirement already satisfied: marshmallow<4.0.0,>=3.3.0 in c:\\users\\simone\\appdata\\local\\programs\\python\\python310\\lib\\site-packages (from dataclasses-json<0.6.0,>=0.5.7->langchain) (3.19.0)\n",
      "Requirement already satisfied: packaging>=17.0 in c:\\users\\simone\\appdata\\local\\programs\\python\\python310\\lib\\site-packages (from marshmallow<4.0.0,>=3.3.0->dataclasses-json<0.6.0,>=0.5.7->langchain) (21.3)\n",
      "Requirement already satisfied: pyparsing!=3.0.5,>=2.0.2 in c:\\users\\simone\\appdata\\local\\programs\\python\\python310\\lib\\site-packages (from packaging>=17.0->marshmallow<4.0.0,>=3.3.0->dataclasses-json<0.6.0,>=0.5.7->langchain) (3.0.9)\n",
      "Requirement already satisfied: typing-extensions>=4.2.0 in c:\\users\\simone\\appdata\\local\\programs\\python\\python310\\lib\\site-packages (from pydantic<2,>=1->langchain) (4.5.0)\n",
      "Requirement already satisfied: idna<4,>=2.5 in c:\\users\\simone\\appdata\\local\\programs\\python\\python310\\lib\\site-packages (from requests<3,>=2->langchain) (3.4)\n",
      "Requirement already satisfied: certifi>=2017.4.17 in c:\\users\\simone\\appdata\\local\\programs\\python\\python310\\lib\\site-packages (from requests<3,>=2->langchain) (2022.12.7)\n",
      "Requirement already satisfied: urllib3<3,>=1.21.1 in c:\\users\\simone\\appdata\\local\\programs\\python\\python310\\lib\\site-packages (from requests<3,>=2->langchain) (1.26.15)\n",
      "Requirement already satisfied: greenlet!=0.4.17 in c:\\users\\simone\\appdata\\local\\programs\\python\\python310\\lib\\site-packages (from SQLAlchemy<3,>=1.3->langchain) (2.0.2)\n",
      "Requirement already satisfied: networkx in c:\\users\\simone\\appdata\\local\\programs\\python\\python310\\lib\\site-packages (from torch->easyocr) (3.1)\n",
      "Requirement already satisfied: jinja2 in c:\\users\\simone\\appdata\\local\\programs\\python\\python310\\lib\\site-packages (from torch->easyocr) (3.1.2)\n",
      "Requirement already satisfied: filelock in c:\\users\\simone\\appdata\\local\\programs\\python\\python310\\lib\\site-packages (from torch->easyocr) (3.12.0)\n",
      "Requirement already satisfied: sympy in c:\\users\\simone\\appdata\\local\\programs\\python\\python310\\lib\\site-packages (from torch->easyocr) (1.11.1)\n",
      "Requirement already satisfied: colorama in c:\\users\\simone\\appdata\\local\\programs\\python\\python310\\lib\\site-packages (from tqdm>=4.48.0->langchain) (0.4.4)\n",
      "Requirement already satisfied: mypy-extensions>=0.3.0 in c:\\users\\simone\\appdata\\local\\programs\\python\\python310\\lib\\site-packages (from typing-inspect>=0.4.0->dataclasses-json<0.6.0,>=0.5.7->langchain) (1.0.0)\n",
      "Requirement already satisfied: MarkupSafe>=2.0 in c:\\users\\simone\\appdata\\local\\programs\\python\\python310\\lib\\site-packages (from jinja2->torch->easyocr) (2.1.2)\n",
      "Requirement already satisfied: six in c:\\users\\simone\\appdata\\local\\programs\\python\\python310\\lib\\site-packages (from python-bidi->easyocr) (1.16.0)\n",
      "Requirement already satisfied: tifffile>=2019.7.26 in c:\\users\\simone\\appdata\\local\\programs\\python\\python310\\lib\\site-packages (from scikit-image->easyocr) (2023.4.12)\n",
      "Requirement already satisfied: imageio>=2.4.1 in c:\\users\\simone\\appdata\\local\\programs\\python\\python310\\lib\\site-packages (from scikit-image->easyocr) (2.28.1)\n",
      "Requirement already satisfied: lazy_loader>=0.1 in c:\\users\\simone\\appdata\\local\\programs\\python\\python310\\lib\\site-packages (from scikit-image->easyocr) (0.2)\n",
      "Requirement already satisfied: PyWavelets>=1.1.1 in c:\\users\\simone\\appdata\\local\\programs\\python\\python310\\lib\\site-packages (from scikit-image->easyocr) (1.4.1)\n",
      "Requirement already satisfied: mpmath>=0.19 in c:\\users\\simone\\appdata\\local\\programs\\python\\python310\\lib\\site-packages (from sympy->torch->easyocr) (1.3.0)\n",
      "Note: you may need to restart the kernel to use updated packages.\n"
     ]
    },
    {
     "name": "stderr",
     "output_type": "stream",
     "text": [
      "WARNING: You are using pip version 21.2.3; however, version 23.1.2 is available.\n",
      "You should consider upgrading via the 'c:\\Users\\Simone\\AppData\\Local\\Programs\\Python\\Python310\\python.exe -m pip install --upgrade pip' command.\n",
      "c:\\Users\\Simone\\AppData\\Local\\Programs\\Python\\Python310\\lib\\site-packages\\fuzzywuzzy\\fuzz.py:11: UserWarning: Using slow pure-python SequenceMatcher. Install python-Levenshtein to remove this warning\n",
      "  warnings.warn('Using slow pure-python SequenceMatcher. Install python-Levenshtein to remove this warning')\n"
     ]
    },
    {
     "name": "stdout",
     "output_type": "stream",
     "text": [
      "C:\\Users\\Simone\\Documents\\Desktop\\public_and_social_services\\ricette\n"
     ]
    },
    {
     "name": "stderr",
     "output_type": "stream",
     "text": [
      "CUDA not available - defaulting to CPU. Note: This module is much faster with a GPU.\n"
     ]
    },
    {
     "name": "stdout",
     "output_type": "stream",
     "text": [
      "<class 'pandas.core.frame.DataFrame'>\n",
      "RangeIndex: 331 entries, 0 to 330\n",
      "Data columns (total 15 columns):\n",
      " #   Column                            Non-Null Count  Dtype \n",
      "---  ------                            --------------  ----- \n",
      " 0   Codice prestazione ambulatoriale  331 non-null    object\n",
      " 1   Codice branca regionale           331 non-null    object\n",
      " 2   Branca regionale                  331 non-null    object\n",
      " 3   Tipo di prestazione               331 non-null    object\n",
      " 4   Nome struttura                    331 non-null    object\n",
      " 5   Comune struttura                  331 non-null    object\n",
      " 6   Provincia struttura               331 non-null    object\n",
      " 7   Indirizzo                         331 non-null    object\n",
      " 8   Descrizione ASL                   331 non-null    object\n",
      " 9   Codice struttura                  331 non-null    object\n",
      " 10  Tipo struttura                    331 non-null    object\n",
      " 11  Telefono                          331 non-null    object\n",
      " 12  Fax                               331 non-null    object\n",
      " 13  Struttura privata                 331 non-null    object\n",
      " 14  Prezzo medio                      331 non-null    object\n",
      "dtypes: object(15)\n",
      "memory usage: 38.9+ KB\n",
      "['EMOCROMO:  Hb, GR, GB, HCT, PLT, IND. DERIV., F. L.']\n"
     ]
    }
   ],
   "source": [
    "%run Extra_tools.ipynb"
   ]
  },
  {
   "attachments": {},
   "cell_type": "markdown",
   "metadata": {},
   "source": [
    "# Notebook of Langchain"
   ]
  },
  {
   "cell_type": "code",
   "execution_count": 3,
   "metadata": {},
   "outputs": [
    {
     "ename": "SyntaxError",
     "evalue": "invalid syntax. Perhaps you forgot a comma? (1873951930.py, line 1)",
     "output_type": "error",
     "traceback": [
      "\u001b[1;36m  File \u001b[1;32m~\\AppData\\Local\\Temp\\ipykernel_25188\\1873951930.py:1\u001b[1;36m\u001b[0m\n\u001b[1;33m    pip install langchain wikipedia duckduckgo-search openai tika gradio\u001b[0m\n\u001b[1;37m                                              ^\u001b[0m\n\u001b[1;31mSyntaxError\u001b[0m\u001b[1;31m:\u001b[0m invalid syntax. Perhaps you forgot a comma?\n"
     ]
    },
    {
     "ename": "SyntaxError",
     "evalue": "invalid syntax. Perhaps you forgot a comma? (1873951930.py, line 1)",
     "output_type": "error",
     "traceback": [
      "Traceback \u001b[1;36m(most recent call last)\u001b[0m:\n",
      "  File \u001b[0;32mc:\\Users\\Simone\\AppData\\Local\\Programs\\Python\\Python310\\lib\\site-packages\\IPython\\core\\interactiveshell.py:3398\u001b[0m in \u001b[0;35mrun_code\u001b[0m\n    exec(code_obj, self.user_global_ns, self.user_ns)\n",
      "  Input \u001b[0;32mIn [3]\u001b[0m in \u001b[0;35m<cell line: 1>\u001b[0m\n    get_ipython().run_line_magic('run', 'Langchain.ipynb')\n",
      "  File \u001b[0;32mc:\\Users\\Simone\\AppData\\Local\\Programs\\Python\\Python310\\lib\\site-packages\\IPython\\core\\interactiveshell.py:2305\u001b[0m in \u001b[0;35mrun_line_magic\u001b[0m\n    result = fn(*args, **kwargs)\n",
      "  File \u001b[0;32mc:\\Users\\Simone\\AppData\\Local\\Programs\\Python\\Python310\\lib\\site-packages\\IPython\\core\\magics\\execution.py:717\u001b[0m in \u001b[0;35mrun\u001b[0m\n    self.shell.safe_execfile_ipy(filename, raise_exceptions=True)\n",
      "  File \u001b[0;32mc:\\Users\\Simone\\AppData\\Local\\Programs\\Python\\Python310\\lib\\site-packages\\IPython\\core\\interactiveshell.py:2811\u001b[0m in \u001b[0;35msafe_execfile_ipy\u001b[0m\n    result.raise_error()\n",
      "  File \u001b[0;32mc:\\Users\\Simone\\AppData\\Local\\Programs\\Python\\Python310\\lib\\site-packages\\IPython\\core\\interactiveshell.py:249\u001b[0m in \u001b[0;35mraise_error\u001b[0m\n    raise self.error_before_exec\n",
      "  File \u001b[0;32mc:\\Users\\Simone\\AppData\\Local\\Programs\\Python\\Python310\\lib\\site-packages\\IPython\\core\\interactiveshell.py:3108\u001b[0m in \u001b[0;35mrun_cell_async\u001b[0m\n    code_ast = compiler.ast_parse(cell, filename=cell_name)\n",
      "\u001b[1;36m  File \u001b[1;32mc:\\Users\\Simone\\AppData\\Local\\Programs\\Python\\Python310\\lib\\site-packages\\IPython\\core\\compilerop.py:105\u001b[1;36m in \u001b[1;35mast_parse\u001b[1;36m\u001b[0m\n\u001b[1;33m    return compile(source, filename, symbol, self.flags | PyCF_ONLY_AST, 1)\u001b[0m\n",
      "\u001b[1;36m  File \u001b[1;32m~\\AppData\\Local\\Temp\\ipykernel_25188\\1873951930.py:1\u001b[1;36m\u001b[0m\n\u001b[1;33m    pip install langchain wikipedia duckduckgo-search openai tika gradio\u001b[0m\n\u001b[1;37m                                              ^\u001b[0m\n\u001b[1;31mSyntaxError\u001b[0m\u001b[1;31m:\u001b[0m invalid syntax. Perhaps you forgot a comma?\n"
     ]
    }
   ],
   "source": [
    "%run Langchain.ipynb"
   ]
  },
  {
   "cell_type": "code",
   "execution_count": null,
   "metadata": {},
   "outputs": [],
   "source": []
  }
 ],
 "metadata": {
  "kernelspec": {
   "display_name": "Python 3",
   "language": "python",
   "name": "python3"
  },
  "language_info": {
   "codemirror_mode": {
    "name": "ipython",
    "version": 3
   },
   "file_extension": ".py",
   "mimetype": "text/x-python",
   "name": "python",
   "nbconvert_exporter": "python",
   "pygments_lexer": "ipython3",
   "version": "3.10.0"
  },
  "orig_nbformat": 4
 },
 "nbformat": 4,
 "nbformat_minor": 2
}
