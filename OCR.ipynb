{
 "cells": [
  {
   "attachments": {},
   "cell_type": "markdown",
   "metadata": {},
   "source": [
    "# OCR on pdf & jpg\n",
    "\n",
    "In this notebook we want use OCR on pdf and jpg for extracting information and matching this with a dataset"
   ]
  },
  {
   "cell_type": "code",
   "execution_count": null,
   "metadata": {},
   "outputs": [],
   "source": [
    "pip install  pypdf langchain tika typing fuzzywuzzy pymupdf"
   ]
  },
  {
   "cell_type": "code",
   "execution_count": 12,
   "metadata": {},
   "outputs": [],
   "source": [
    "import pandas as pd\n",
    "from langchain.document_loaders import PyPDFLoader\n",
    "from tika import parser\n",
    "from typing import List\n",
    "import re\n",
    "from typing import List, Tuple\n",
    "from fuzzywuzzy import fuzz, process\n",
    "import fitz"
   ]
  },
  {
   "cell_type": "code",
   "execution_count": null,
   "metadata": {},
   "outputs": [],
   "source": [
    "#Text ci metti un pdf\n",
    "def extract_data(text):\n",
    "    pattern = r'\\((\\w+)\\) - ([A-Z ]+)'\n",
    "    data = re.findall(pattern, text)\n",
    "    for i in range(len(data)):\n",
    "        num = data[i][0]\n",
    "        num = re.sub(r'^0+', '', num)  # rimuovi gli zeri iniziali\n",
    "        num = re.sub(r'\\D', '', num)  # rimuovi le lettere\n",
    "        data[i] = (num, data[i][1])\n",
    "    return data"
   ]
  },
  {
   "cell_type": "code",
   "execution_count": 13,
   "metadata": {},
   "outputs": [
    {
     "ename": "NameError",
     "evalue": "name 'Tuple' is not defined",
     "output_type": "error",
     "traceback": [
      "\u001b[1;31m---------------------------------------------------------------------------\u001b[0m",
      "\u001b[1;31mNameError\u001b[0m                                 Traceback (most recent call last)",
      "\u001b[1;32mc:\\Users\\Simone\\Documents\\Desktop\\public_and_social_services\\OCR.ipynb Cella 5\u001b[0m in \u001b[0;36m<cell line: 1>\u001b[1;34m()\u001b[0m\n\u001b[1;32m----> <a href='vscode-notebook-cell:/c%3A/Users/Simone/Documents/Desktop/public_and_social_services/OCR.ipynb#W5sZmlsZQ%3D%3D?line=0'>1</a>\u001b[0m \u001b[39mdef\u001b[39;00m \u001b[39mmatch_recipe_to_dataset\u001b[39m(pdf_file: \u001b[39mstr\u001b[39m, dataset: pd\u001b[39m.\u001b[39mDataFrame, threshold: \u001b[39mint\u001b[39m \u001b[39m=\u001b[39m \u001b[39m90\u001b[39m) \u001b[39m-\u001b[39m\u001b[39m>\u001b[39m List[Tuple]:\n\u001b[0;32m      <a href='vscode-notebook-cell:/c%3A/Users/Simone/Documents/Desktop/public_and_social_services/OCR.ipynb#W5sZmlsZQ%3D%3D?line=1'>2</a>\u001b[0m     \u001b[39mif\u001b[39;00m \u001b[39mnot\u001b[39;00m \u001b[39misinstance\u001b[39m(pdf_file, \u001b[39mstr\u001b[39m):\n\u001b[0;32m      <a href='vscode-notebook-cell:/c%3A/Users/Simone/Documents/Desktop/public_and_social_services/OCR.ipynb#W5sZmlsZQ%3D%3D?line=2'>3</a>\u001b[0m         \u001b[39mraise\u001b[39;00m \u001b[39mTypeError\u001b[39;00m(\u001b[39m\"\u001b[39m\u001b[39mIl percorso del file PDF deve essere una stringa.\u001b[39m\u001b[39m\"\u001b[39m)\n",
      "\u001b[1;31mNameError\u001b[0m: name 'Tuple' is not defined"
     ]
    }
   ],
   "source": [
    "def match_recipe_to_dataset(pdf_file: str, dataset: pd.DataFrame, threshold: int = 90) -> List[Tuple]:\n",
    "    if not isinstance(pdf_file, str):\n",
    "        raise TypeError(\"Il percorso del file PDF deve essere una stringa.\")\n",
    "    if not isinstance(dataset, pd.DataFrame):\n",
    "        raise TypeError(\"Il dataset deve essere un oggetto pandas.DataFrame.\")\n",
    "\n",
    "    # estraiamo il testo dal file pdf\n",
    "    pdf_file = fitz.open(pdf_file)\n",
    "    text = ''\n",
    "    for page in pdf_file:\n",
    "        text += page.get_text()\n",
    "\n",
    "    # individuiamo le parole di interesse\n",
    "    words = re.findall(r' - ([A-Za-z\\s]+)', text) #Funzione regex per estrarre parole dalla ricetta (iniziale =' - ([A-Z]+))'\n",
    "\n",
    "    # matchiamo le parole con le parole della colonna 'COD_PREST_AMBLE' con fuzzywuzzy\n",
    "    matches = []\n",
    "    for word in words:\n",
    "        if not isinstance(word, str):\n",
    "            raise TypeError(\"La parola di interesse deve essere una stringa.\") #funzione per errori\n",
    "        scores = process.extract(word, dataset['COD_PREST_AMBLE'], scorer=fuzz.token_set_ratio, limit=1) #qui faccio fuzzymatch devo capire il parametro limit\n",
    "        filtered_scores = [score for score in scores if score[1] >= threshold]\n",
    "        for score in filtered_scores:\n",
    "            rows = dataset[dataset['COD_PREST_AMBLE'] == score[0]].head(1).iterrows() #Decidiamo l'output \n",
    "            matches.extend([(word, row[1], score[1]) for row in rows])\n",
    "\n",
    "    # ordiniamo i risultati in base allo score\n",
    "    matches_sorted = sorted(matches, key=lambda x: x[2], reverse=True)\n",
    "\n",
    "    return matches_sorted"
   ]
  },
  {
   "cell_type": "code",
   "execution_count": null,
   "metadata": {},
   "outputs": [],
   "source": []
  }
 ],
 "metadata": {
  "kernelspec": {
   "display_name": "Python 3",
   "language": "python",
   "name": "python3"
  },
  "language_info": {
   "codemirror_mode": {
    "name": "ipython",
    "version": 3
   },
   "file_extension": ".py",
   "mimetype": "text/x-python",
   "name": "python",
   "nbconvert_exporter": "python",
   "pygments_lexer": "ipython3",
   "version": "3.10.0"
  },
  "orig_nbformat": 4
 },
 "nbformat": 4,
 "nbformat_minor": 2
}
